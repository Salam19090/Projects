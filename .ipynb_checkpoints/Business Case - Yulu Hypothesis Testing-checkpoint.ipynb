{
 "cells": [
  {
   "cell_type": "markdown",
   "id": "19b47e9c",
   "metadata": {},
   "source": [
    "## Business Case - Yulu Hypothesis Testing"
   ]
  },
  {
   "cell_type": "markdown",
   "id": "afa3d80c",
   "metadata": {},
   "source": [
    "### Problem Statement\n",
    "The company wants to know:\n",
    "\n",
    "* Which variables are significant in predicting the demand for shared electric cycles in the Indian market?\n",
    "* How well those variables describe the electric cycle demands"
   ]
  },
  {
   "cell_type": "code",
   "execution_count": 3,
   "id": "6850ba90",
   "metadata": {},
   "outputs": [],
   "source": [
    "import numpy as np\n",
    "import pandas as pd\n",
    "import seaborn as sns\n",
    "import matplotlib.pyplot as plt\n",
    "from scipy import stats\n",
    "from statsmodels.stats.weightstats import ztest\n",
    "from scipy.stats import ttest_1samp\n",
    "from scipy.stats import ttest_ind\n",
    "from scipy.stats import f_oneway\n",
    "from scipy.stats import chi2_contingency"
   ]
  },
  {
   "cell_type": "code",
   "execution_count": null,
   "id": "f5ab838f",
   "metadata": {},
   "outputs": [],
   "source": []
  }
 ],
 "metadata": {
  "kernelspec": {
   "display_name": "Python 3 (ipykernel)",
   "language": "python",
   "name": "python3"
  },
  "language_info": {
   "codemirror_mode": {
    "name": "ipython",
    "version": 3
   },
   "file_extension": ".py",
   "mimetype": "text/x-python",
   "name": "python",
   "nbconvert_exporter": "python",
   "pygments_lexer": "ipython3",
   "version": "3.10.9"
  }
 },
 "nbformat": 4,
 "nbformat_minor": 5
}
