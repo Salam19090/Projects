{
 "cells": [
  {
   "cell_type": "code",
   "execution_count": 3,
   "id": "487a7a5d",
   "metadata": {},
   "outputs": [],
   "source": [
    "import pandas as pd"
   ]
  },
  {
   "cell_type": "code",
   "execution_count": 4,
   "id": "0c001752",
   "metadata": {},
   "outputs": [
    {
     "name": "stdout",
     "output_type": "stream",
     "text": [
      "0    4\n",
      "Name: numbers, dtype: int64\n"
     ]
    }
   ],
   "source": [
    "data = {'numbers': [1, 2, 3, 3, 4, 4, 4, 5, 5]}\n",
    "df = pd.DataFrame(data)\n",
    "mode = df['numbers'].mode()\n",
    "print(mode)"
   ]
  },
  {
   "cell_type": "code",
   "execution_count": 5,
   "id": "6bc63e16",
   "metadata": {},
   "outputs": [
    {
     "data": {
      "text/plain": [
       "numbers    2\n",
       "dtype: int64"
      ]
     },
     "execution_count": 5,
     "metadata": {},
     "output_type": "execute_result"
    }
   ],
   "source": [
    "df[df == 3].count()"
   ]
  },
  {
   "cell_type": "code",
   "execution_count": 14,
   "id": "37bca6d0",
   "metadata": {},
   "outputs": [
    {
     "data": {
      "text/plain": [
       "[4, 16, 49]"
      ]
     },
     "execution_count": 14,
     "metadata": {},
     "output_type": "execute_result"
    }
   ],
   "source": [
    "a = [2,3,4,6,7,8]\n",
    "n = len(a)\n",
    "ans = [a[i]**2 for i in range(n) if i%2==0]\n",
    "ans"
   ]
  },
  {
   "cell_type": "code",
   "execution_count": 13,
   "id": "4ae034c8",
   "metadata": {},
   "outputs": [
    {
     "name": "stdout",
     "output_type": "stream",
     "text": [
      "[4, 9, 16, 36, 49, 64]\n"
     ]
    }
   ],
   "source": [
    "print(ans)"
   ]
  },
  {
   "cell_type": "code",
   "execution_count": 15,
   "id": "dbc23f32",
   "metadata": {},
   "outputs": [
    {
     "data": {
      "text/plain": [
       "[4, 3, 16, 6, 49, 8]"
      ]
     },
     "execution_count": 15,
     "metadata": {},
     "output_type": "execute_result"
    }
   ],
   "source": [
    "a = [2,3,4,6,7,8]\n",
    "n = len(a)\n",
    "ans = [a[i]**2 if i%2==0 else a[i] for i in range(n)]\n",
    "ans"
   ]
  },
  {
   "cell_type": "code",
   "execution_count": 19,
   "id": "55ff229b",
   "metadata": {},
   "outputs": [
    {
     "data": {
      "text/plain": [
       "1"
      ]
     },
     "execution_count": 19,
     "metadata": {},
     "output_type": "execute_result"
    }
   ],
   "source": [
    "b = 1,2,4,3\n",
    "x,y,z,w = b\n",
    "x"
   ]
  },
  {
   "cell_type": "code",
   "execution_count": 22,
   "id": "3b2b5d39",
   "metadata": {},
   "outputs": [
    {
     "ename": "TypeError",
     "evalue": "unhashable type: 'list'",
     "output_type": "error",
     "traceback": [
      "\u001b[1;31m---------------------------------------------------------------------------\u001b[0m",
      "\u001b[1;31mTypeError\u001b[0m                                 Traceback (most recent call last)",
      "Cell \u001b[1;32mIn[22], line 2\u001b[0m\n\u001b[0;32m      1\u001b[0m d \u001b[38;5;241m=\u001b[39m [\u001b[38;5;241m1\u001b[39m,\u001b[38;5;241m1\u001b[39m,\u001b[38;5;241m2\u001b[39m,\u001b[38;5;241m2\u001b[39m,\u001b[38;5;241m3\u001b[39m,\u001b[38;5;241m3\u001b[39m]\n\u001b[1;32m----> 2\u001b[0m s \u001b[38;5;241m=\u001b[39m {d}\n\u001b[0;32m      3\u001b[0m s\n",
      "\u001b[1;31mTypeError\u001b[0m: unhashable type: 'list'"
     ]
    }
   ],
   "source": [
    "d = [1,1,2,2,3,3]\n",
    "s = {d}\n",
    "s"
   ]
  },
  {
   "cell_type": "code",
   "execution_count": 28,
   "id": "18c12b71",
   "metadata": {},
   "outputs": [],
   "source": [
    "freq = {\n",
    "    'a' : 3,\n",
    "    'b' : 6,\n",
    "    'g' : 10,\n",
    "    's' : 20,\n",
    "    'f' : 5\n",
    "}\n"
   ]
  },
  {
   "cell_type": "code",
   "execution_count": 29,
   "id": "9001e5e0",
   "metadata": {},
   "outputs": [
    {
     "name": "stdout",
     "output_type": "stream",
     "text": [
      "The charectar s having the highest frequency of 20\n"
     ]
    }
   ],
   "source": [
    "max_freq = -1\n",
    "max_alpha = None\n",
    "\n",
    "for elem in freq.items():\n",
    "    alpha, freq = elem\n",
    "    if freq > max_freq:\n",
    "        max_freq = freq\n",
    "        max_alpha = alpha\n",
    "        \n",
    "print(f'The charectar {max_alpha} having the highest frequency of {max_freq}')"
   ]
  },
  {
   "cell_type": "code",
   "execution_count": 30,
   "id": "7489e48b",
   "metadata": {},
   "outputs": [
    {
     "name": "stdout",
     "output_type": "stream",
     "text": [
      "10\n",
      "even\n"
     ]
    }
   ],
   "source": [
    "n=int(input())\n",
    "if n%2==0:\n",
    "    print('even')\n",
    "else:\n",
    "    print('odd')"
   ]
  },
  {
   "cell_type": "code",
   "execution_count": 36,
   "id": "12ec2646",
   "metadata": {},
   "outputs": [],
   "source": [
    "def even_odd(n):\n",
    "    if n%2==0:\n",
    "        return'even'\n",
    "    else:\n",
    "        return'odd'"
   ]
  },
  {
   "cell_type": "code",
   "execution_count": 37,
   "id": "28f38f34",
   "metadata": {},
   "outputs": [
    {
     "data": {
      "text/plain": [
       "'odd'"
      ]
     },
     "execution_count": 37,
     "metadata": {},
     "output_type": "execute_result"
    }
   ],
   "source": [
    "even_odd(21)"
   ]
  },
  {
   "cell_type": "code",
   "execution_count": 46,
   "id": "b17e0414",
   "metadata": {},
   "outputs": [],
   "source": [
    "import numpy as np\n",
    "import pandas as pd\n",
    "def search_matrix(matrix, target):\n",
    "    if not matrix or not matrix[0]:\n",
    "        return False\n",
    "    \n",
    "    # Define the dimensions of the matrix\n",
    "    rows, cols = len(matrix), len(matrix[0])\n",
    "    \n",
    "    # Start the binary search\n",
    "    left, right = 0, rows * cols - 1\n",
    "    \n",
    "    while left <= right:\n",
    "        mid = (left + right) // 2\n",
    "        mid_element = matrix[mid // cols][mid % cols]\n",
    "        \n",
    "        if mid_element == target:\n",
    "            return True\n",
    "        elif mid_element < target:\n",
    "            left = mid + 1\n",
    "        else:\n",
    "            right = mid - 1\n",
    "            \n",
    "    return False\n",
    "\n",
    "# Test the function\n",
    "  # Output: True\n",
    "\n"
   ]
  },
  {
   "cell_type": "code",
   "execution_count": 47,
   "id": "ad1865e0",
   "metadata": {},
   "outputs": [
    {
     "name": "stdout",
     "output_type": "stream",
     "text": [
      "False\n"
     ]
    }
   ],
   "source": [
    "matrix = [\n",
    "    [1, 4, 7, 10, 15],\n",
    "    [3, 5, 8, 15, 19],\n",
    "    [6, 9, 11, 16, 20],\n",
    "    [12, 19, 21, 26, 30]\n",
    "]\n",
    "target = 6\n",
    "print(search_matrix(matrix, target))"
   ]
  },
  {
   "cell_type": "code",
   "execution_count": 48,
   "id": "a9294c2a",
   "metadata": {},
   "outputs": [
    {
     "name": "stdout",
     "output_type": "stream",
     "text": [
      "True\n"
     ]
    }
   ],
   "source": [
    "def search_matrix(matrix, target):\n",
    "    if not matrix or not matrix[0]:\n",
    "        return False\n",
    "    \n",
    "    # Start from the top-right corner\n",
    "    row, col = 0, len(matrix[0]) - 1\n",
    "    \n",
    "    while row < len(matrix) and col >= 0:\n",
    "        if matrix[row][col] == target:\n",
    "            return True\n",
    "        elif matrix[row][col] < target:\n",
    "            # Move to the next row if the current element is smaller than the target\n",
    "            row += 1\n",
    "        else:\n",
    "            # Move to the previous column if the current element is larger than the target\n",
    "            col -= 1\n",
    "    \n",
    "    return False\n",
    "\n",
    "# Test the function\n",
    "matrix = [\n",
    "    [1, 4, 7, 10, 15],\n",
    "    [3, 5, 8, 15, 19],\n",
    "    [6, 9, 11, 16, 20],\n",
    "    [12, 19, 21, 26, 30]\n",
    "]\n",
    "target = 5\n",
    "print(search_matrix(matrix, target))  # Output: True\n"
   ]
  },
  {
   "cell_type": "code",
   "execution_count": 49,
   "id": "712b2728",
   "metadata": {},
   "outputs": [
    {
     "data": {
      "text/plain": [
       "5"
      ]
     },
     "execution_count": 49,
     "metadata": {},
     "output_type": "execute_result"
    }
   ],
   "source": [
    "len(matrix[0])"
   ]
  },
  {
   "cell_type": "code",
   "execution_count": 50,
   "id": "ed2d8fb7",
   "metadata": {},
   "outputs": [
    {
     "name": "stdout",
     "output_type": "stream",
     "text": [
      "cat\n"
     ]
    }
   ],
   "source": [
    "from collections import Counter\n",
    "\n",
    "def most_common_word(sentence):\n",
    "    words = sentence.split()\n",
    "    word_counts = Counter(words)\n",
    "    most_common_word, _ = word_counts.most_common(1)[0]\n",
    "    return most_common_word\n",
    "\n",
    "# Example usage:\n",
    "sentence = \"the cat fought with another cat and injured the other cat\"\n",
    "print(most_common_word(sentence))\n"
   ]
  },
  {
   "cell_type": "code",
   "execution_count": 53,
   "id": "561b0bd6",
   "metadata": {},
   "outputs": [
    {
     "name": "stdout",
     "output_type": "stream",
     "text": [
      "Alice\n"
     ]
    }
   ],
   "source": [
    "def highest_weighted_average(records):\n",
    "    max_avg = float()\n",
    "    top_student = None\n",
    "    \n",
    "    for record in records:\n",
    "        name = record[\"name\"]\n",
    "        scores = record[\"scores\"]\n",
    "        weights = record[\"weights\"]\n",
    "        \n",
    "        weighted_sum = sum(score * weight for score, weight in zip(scores, weights))\n",
    "        total_weight = sum(weights)\n",
    "        avg = weighted_sum / total_weight\n",
    "        \n",
    "        if avg > max_avg:\n",
    "            max_avg = avg\n",
    "            top_student = name\n",
    "    \n",
    "    return top_student\n",
    "\n",
    "# Example input\n",
    "records = [\n",
    "    {\"name\": \"John\", \"scores\": [90, 85, 88], \"weights\": [0.3, 0.4, 0.3]},\n",
    "    {\"name\": \"Alice\", \"scores\": [95, 92, 89], \"weights\": [0.25, 0.35, 0.4]},\n",
    "    {\"name\": \"Bob\", \"scores\": [88, 90, 85], \"weights\": [0.35, 0.3, 0.35]}\n",
    "]\n",
    "\n",
    "# Example usage\n",
    "print(highest_weighted_average(records))\n"
   ]
  },
  {
   "cell_type": "code",
   "execution_count": 58,
   "id": "83759fdc",
   "metadata": {},
   "outputs": [
    {
     "name": "stdout",
     "output_type": "stream",
     "text": [
      "[[-1.22 -1.22 -1.22]\n",
      " [ 0.    0.    0.  ]\n",
      " [ 1.22  1.22  1.22]]\n"
     ]
    }
   ],
   "source": [
    "import numpy as np\n",
    "\n",
    "def normalize_data(data, eps):\n",
    "    means = np.mean(data, axis=0)\n",
    "    stds = np.std(data, axis=0)\n",
    "    stds[stds == 0] = eps  # Handling cases where standard deviation is zero by adding epsilon\n",
    "    \n",
    "    normalized_data = (data - means) / stds\n",
    "    normalized_data = np.round(normalized_data, 2)\n",
    "    \n",
    "    return normalized_data\n",
    "\n",
    "# Sample Input\n",
    "data = np.array([[1, 2, 3], [4, 5, 6], [7, 8, 9]])\n",
    "eps = 1e-5\n",
    "\n",
    "# Sample Output\n",
    "print(normalize_data(data, eps))\n"
   ]
  },
  {
   "cell_type": "code",
   "execution_count": 57,
   "id": "08751688",
   "metadata": {},
   "outputs": [
    {
     "name": "stdout",
     "output_type": "stream",
     "text": [
      "[[-1.22  0.   -1.22]\n",
      " [ 0.    0.    0.  ]\n",
      " [ 1.22  0.    1.22]]\n"
     ]
    }
   ],
   "source": [
    "import numpy as np\n",
    "\n",
    "def normalize_data(data, eps):\n",
    "    means = np.mean(data, axis=0)\n",
    "    stds = np.std(data, axis=0)\n",
    "    \n",
    "    # Find columns with zero standard deviation\n",
    "    zero_std_columns = np.where(stds == 0)[0]\n",
    "    \n",
    "    # Replace zero standard deviations with epsilon\n",
    "    stds[stds == 0] = eps\n",
    "    \n",
    "    normalized_data = (data - means) / stds\n",
    "    \n",
    "    # Handle columns with zero standard deviation\n",
    "    for col in zero_std_columns:\n",
    "        normalized_data[:, col] = (data[:, col] - means[col])/eps\n",
    "    \n",
    "    normalized_data = np.round(normalized_data, 2)\n",
    "    \n",
    "    return normalized_data\n",
    "\n",
    "# Sample Input\n",
    "data = np.array([[1, 1, 1], [2, 1, 2], [3, 1, 3]])\n",
    "eps = 2\n",
    "\n",
    "# Sample Output\n",
    "print(normalize_data(data, eps))\n"
   ]
  },
  {
   "cell_type": "code",
   "execution_count": 60,
   "id": "2f2a8a00",
   "metadata": {},
   "outputs": [
    {
     "name": "stdout",
     "output_type": "stream",
     "text": [
      "[[-1.22  0.   -1.22]\n",
      " [ 0.    0.    0.  ]\n",
      " [ 1.22  0.    1.22]]\n"
     ]
    }
   ],
   "source": [
    "import numpy as np\n",
    "\n",
    "def normalize_data(data, eps):\n",
    "    means = np.mean(data, axis=0)\n",
    "    stds = np.std(data, axis=0)\n",
    "    \n",
    "    # Find columns with zero standard deviation\n",
    "    zero_std_columns = np.where(stds == 0)[0]\n",
    "    \n",
    "    # Replace zero standard deviations with epsilon\n",
    "    stds[stds == 0] = eps\n",
    "    \n",
    "    normalized_data = (data - means) / stds\n",
    "    \n",
    "    # Handle columns with zero standard deviation\n",
    "    for col in zero_std_columns:\n",
    "        normalized_data[:, col] = (data[:, col] - means[col])\n",
    "    \n",
    "    normalized_data = np.round(normalized_data, 2)\n",
    "    \n",
    "    return normalized_data\n",
    "\n",
    "# Sample Input\n",
    "data = np.array([[1, 1, 1], [2, 1, 2], [3, 1, 3]])\n",
    "eps = 2\n",
    "\n",
    "# Sample Output\n",
    "print(normalize_data(data, eps))\n",
    "\n"
   ]
  },
  {
   "cell_type": "code",
   "execution_count": 61,
   "id": "5ed82128",
   "metadata": {},
   "outputs": [
    {
     "name": "stdout",
     "output_type": "stream",
     "text": [
      "[[-1.22  0.   -1.22]\n",
      " [ 0.    0.    0.  ]\n",
      " [ 1.22  0.    1.22]]\n"
     ]
    }
   ],
   "source": [
    "import numpy as np\n",
    "\n",
    "def normalize_data(data, eps):\n",
    "    means = np.mean(data, axis=0)\n",
    "    stds = np.std(data, axis=0)\n",
    "    \n",
    "    # Find columns with zero standard deviation\n",
    "    zero_std_columns = np.where(stds == 0)[0]\n",
    "    \n",
    "    # Replace zero standard deviations with epsilon\n",
    "    stds[stds == 0] = eps\n",
    "    \n",
    "    normalized_data = (data - means) / stds\n",
    "    \n",
    "    # Handle columns with zero standard deviation\n",
    "    for col in zero_std_columns:\n",
    "        normalized_data[:, col] = (data[:, col] - means[col])\n",
    "    \n",
    "    normalized_data = np.round(normalized_data, 2)\n",
    "    \n",
    "    return normalized_data\n",
    "\n",
    "# Sample Input\n",
    "data = np.array([[1, 1, 1], [2, 1, 2], [3, 1, 3]])\n",
    "eps = 2\n",
    "\n",
    "# Sample Output\n",
    "print(normalize_data(data, eps))\n"
   ]
  },
  {
   "cell_type": "code",
   "execution_count": 62,
   "id": "c2abe1db",
   "metadata": {},
   "outputs": [
    {
     "name": "stdout",
     "output_type": "stream",
     "text": [
      "USA\n"
     ]
    }
   ],
   "source": [
    "import pandas as pd\n",
    "\n",
    "def country_with_most_premium_users(df):\n",
    "    # Filter the dataframe for premium users\n",
    "    premium_users_df = df[df['plan'] == 'premium']\n",
    "    \n",
    "    # Group by country and count the number of premium users in each country\n",
    "    premium_users_count = premium_users_df.groupby('country').size()\n",
    "    \n",
    "    # Find the country with the maximum count of premium users\n",
    "    max_premium_users_country = premium_users_count.idxmax()\n",
    "    \n",
    "    return max_premium_users_country\n",
    "\n",
    "# Sample DataFrame\n",
    "data = {\n",
    "    'user_id': [1, 2, 3, 4, 5],\n",
    "    'country': ['USA', 'UK', 'USA', 'India', 'USA'],\n",
    "    'age': [25, 30, 35, 40, 45],\n",
    "    'plan': ['premium', 'basic', 'premium', 'basic', 'premium']\n",
    "}\n",
    "\n",
    "df = pd.DataFrame(data)\n",
    "\n",
    "# Sample Output\n",
    "print(country_with_most_premium_users(df))\n"
   ]
  },
  {
   "cell_type": "code",
   "execution_count": 63,
   "id": "f23a4854",
   "metadata": {},
   "outputs": [
    {
     "name": "stdout",
     "output_type": "stream",
     "text": [
      "Pearson correlation coefficient (rho): 0.7063351597586368\n"
     ]
    }
   ],
   "source": [
    "import numpy as np\n",
    "\n",
    "# Data\n",
    "Online_Reviews = np.array([4.2, 4.5, 3.8, 4.0, 4.3, 4.8, 3.9, 4.2, 4.6, 4.1, 4.4, 4.7, 3.7, 4.5, 4.0, 4.2, 4.4, 3.9, 4.6, 4.3, 4.2, 4.4, 3.9, 4.6, 4.3, 3.9, 4.2, 4.6, 4.1, 5.0])\n",
    "Sales_Volume = np.array([1500, 1800, 1200, 1300, 1600, 2000, 1400, 1500, 1700, 1600, 1800, 1900, 1100, 1700, 1300, 1500, 1600, 1400, 1900, 1600, 1600, 2000, 1400, 1500, 1700, 1800, 1200, 1300, 1600, 2000])\n",
    "\n",
    "# Calculate Pearson correlation coefficient\n",
    "rho = np.corrcoef(Online_Reviews, Sales_Volume)[0, 1]\n",
    "print(\"Pearson correlation coefficient (rho):\", rho)\n"
   ]
  },
  {
   "cell_type": "code",
   "execution_count": 64,
   "id": "8e52ee65",
   "metadata": {},
   "outputs": [
    {
     "data": {
      "image/png": "[encoded data removed]",
      "text/plain": [
       "<Figure size 800x600 with 1 Axes>"
      ]
     },
     "metadata": {},
     "output_type": "display_data"
    }
   ],
   "source": [
    "import matplotlib.pyplot as plt\n",
    "\n",
    "# Data\n",
    "Online_Reviews = [4.2, 4.5, 3.8, 4.0, 4.3, 4.8, 3.9, 4.2, 4.6, 4.1, 4.4, 4.7, 3.7, 4.5, 4.0, 4.2, 4.4, 3.9, 4.6, 4.3, 4.2, 4.4, 3.9, 4.6, 4.3, 3.9, 4.2, 4.6, 4.1, 5.0]\n",
    "Sales_Volume = [1500, 1800, 1200, 1300, 1600, 2000, 1400, 1500, 1700, 1600, 1800, 1900, 1100, 1700, 1300, 1500, 1600, 1400, 1900, 1600, 1600, 2000, 1400, 1500, 1700, 1800, 1200, 1300, 1600, 2000]\n",
    "\n",
    "# Plotting\n",
    "plt.figure(figsize=(8, 6))\n",
    "plt.scatter(Online_Reviews, Sales_Volume, color='blue', alpha=0.7)\n",
    "plt.title('Scatter Plot of Online Reviews vs. Sales Volume')\n",
    "plt.xlabel('Online Reviews')\n",
    "plt.ylabel('Sales Volume')\n",
    "plt.grid(True)\n",
    "plt.show()\n"
   ]
  },
  {
   "cell_type": "code",
   "execution_count": 67,
   "id": "292e1a92",
   "metadata": {},
   "outputs": [
    {
     "name": "stdout",
     "output_type": "stream",
     "text": [
      "F-statistic: 8.150399700614363\n",
      "p-value: 0.0005696096083555249\n"
     ]
    }
   ],
   "source": [
    "from scipy.stats import f_oneway\n",
    "\n",
    "# Data\n",
    "city_center_ratings = [2.5, 4.8, 3.9, 3.4, 1.6, 1.6, 1.2, 4.5, 3.4, 3.8, 1.1, 4.9, 4.3, 1.8, 1.7, 1.7, 2.2, 3.1, 2.7, 2.2, 4.5, 3.4, 3.8, 1.1, 4.9, 4.3, 1.8, 1.7, 1.2, 5.0]\n",
    "downtown_ratings = [4.4, 2.6, 3.2, 3.5, 3.8, 5.1, 2.8, 4.1, 4.4, 2.2, 4.4, 2.7, 2.3, 5.8, 5.9, 5.2, 3.2, 2.4, 4.7, 3.8, 3.2, 3.5, 3.8, 5.1, 2.8, 4.1, 4.4, 2.2, 4.4, 2.7]\n",
    "suburban_ratings = [3.2, 4.0, 3.1, 4.8, 3.5, 4.3, 3.6, 4.0, 4.1, 3.4, 4.9, 4.6, 4.9, 4.8, 4.2, 4.8, 3.2, 3.4, 3.1, 3.7, 4.0, 3.1, 4.8, 3.5, 4.3, 3.6, 4.0, 4.1, 3.4, 4.9]\n",
    "\n",
    "# Perform ANOVA test\n",
    "f_statistic, p_value = f_oneway(city_center_ratings, downtown_ratings, suburban_ratings)\n",
    "\n",
    "print(\"F-statistic:\", f_statistic)\n",
    "print(\"p-value:\", p_value)\n"
   ]
  },
  {
   "cell_type": "code",
   "execution_count": 68,
   "id": "cfd41c72",
   "metadata": {},
   "outputs": [
    {
     "name": "stdout",
     "output_type": "stream",
     "text": [
      "Chi-square statistic: 0.6082793579273444\n",
      "p-value: 0.7377578100070072\n"
     ]
    }
   ],
   "source": [
    "from scipy.stats import chi2_contingency\n",
    "\n",
    "# Observed frequencies\n",
    "observed = [40, 70, 50]\n",
    "\n",
    "# Expected frequencies (based on the expected proportions)\n",
    "expected = [0.25 * 160, 0.40 * 160, 0.35 * 160]\n",
    "\n",
    "# Perform chi-square goodness-of-fit test\n",
    "chi2_statistic, p_value = chi2_contingency([observed, expected])[0:2]\n",
    "\n",
    "print(\"Chi-square statistic:\", chi2_statistic)\n",
    "print(\"p-value:\", p_value)\n"
   ]
  },
  {
   "cell_type": "code",
   "execution_count": 2,
   "id": "fd0ee766",
   "metadata": {},
   "outputs": [
    {
     "name": "stdout",
     "output_type": "stream",
     "text": [
      "[[7 8 9]]\n"
     ]
    }
   ],
   "source": [
    "import numpy as np\n",
    "\n",
    "def extract_matrix(array, threshold, new_value):\n",
    "    # Modify the array by replacing elements below the threshold with the new_value\n",
    "    modified_array = np.where(array < threshold, new_value, array)\n",
    "    \n",
    "    # Calculate the average row sum of the original array\n",
    "    avg_row_sum = np.mean(np.sum(array, axis=1))\n",
    "    \n",
    "    # Extract rows from the modified array where the row sum is greater than the average row sum of the original array\n",
    "    submatrix = modified_array[np.sum(modified_array, axis=1) > avg_row_sum]\n",
    "    \n",
    "    return submatrix\n",
    "\n",
    "# Test the function\n",
    "array = np.array([[1, 2, 3], [4, 5, 6], [7, 8, 9]])\n",
    "threshold = 5\n",
    "new_value = 0\n",
    "result = extract_matrix(array, threshold, new_value)\n",
    "print(result)\n"
   ]
  },
  {
   "cell_type": "code",
   "execution_count": 4,
   "id": "5e715d38",
   "metadata": {},
   "outputs": [
    {
     "name": "stdout",
     "output_type": "stream",
     "text": [
      "Requirement already satisfied: scipy in c:\\users\\shahnoor alam\\anaconda3\\lib\\site-packages (1.10.0)\n",
      "Requirement already satisfied: pandas in c:\\users\\shahnoor alam\\anaconda3\\lib\\site-packages (1.5.3)\n",
      "Requirement already satisfied: statsmodels in c:\\users\\shahnoor alam\\anaconda3\\lib\\site-packages (0.13.5)\n",
      "Requirement already satisfied: numpy<1.27.0,>=1.19.5 in c:\\users\\shahnoor alam\\anaconda3\\lib\\site-packages (from scipy) (1.23.5)\n",
      "Requirement already satisfied: pytz>=2020.1 in c:\\users\\shahnoor alam\\anaconda3\\lib\\site-packages (from pandas) (2022.7)\n",
      "Requirement already satisfied: python-dateutil>=2.8.1 in c:\\users\\shahnoor alam\\anaconda3\\lib\\site-packages (from pandas) (2.8.2)\n",
      "Requirement already satisfied: packaging>=21.3 in c:\\users\\shahnoor alam\\anaconda3\\lib\\site-packages (from statsmodels) (22.0)\n",
      "Requirement already satisfied: patsy>=0.5.2 in c:\\users\\shahnoor alam\\anaconda3\\lib\\site-packages (from statsmodels) (0.5.3)\n",
      "Requirement already satisfied: six in c:\\users\\shahnoor alam\\anaconda3\\lib\\site-packages (from patsy>=0.5.2->statsmodels) (1.16.0)\n",
      "Note: you may need to restart the kernel to use updated packages.\n"
     ]
    }
   ],
   "source": [
    "pip install scipy pandas statsmodels"
   ]
  },
  {
   "cell_type": "code",
   "execution_count": 5,
   "id": "797a1116",
   "metadata": {},
   "outputs": [
    {
     "ename": "NameError",
     "evalue": "name 'ols' is not defined",
     "output_type": "error",
     "traceback": [
      "\u001b[1;31m---------------------------------------------------------------------------\u001b[0m",
      "\u001b[1;31mNameError\u001b[0m                                 Traceback (most recent call last)",
      "Cell \u001b[1;32mIn[5], line 15\u001b[0m\n\u001b[0;32m     12\u001b[0m df \u001b[38;5;241m=\u001b[39m pd\u001b[38;5;241m.\u001b[39mDataFrame(data)\n\u001b[0;32m     14\u001b[0m \u001b[38;5;66;03m# Performing Two-way ANOVA\u001b[39;00m\n\u001b[1;32m---> 15\u001b[0m model \u001b[38;5;241m=\u001b[39m \u001b[43mols\u001b[49m(\u001b[38;5;124m'\u001b[39m\u001b[38;5;124mEffectiveness_Score ~ C(Advertising_Campaign) + C(Age_Group) + C(Advertising_Campaign):C(Age_Group)\u001b[39m\u001b[38;5;124m'\u001b[39m, data\u001b[38;5;241m=\u001b[39mdf)\u001b[38;5;241m.\u001b[39mfit()\n\u001b[0;32m     16\u001b[0m anova_table \u001b[38;5;241m=\u001b[39m sm\u001b[38;5;241m.\u001b[39mstats\u001b[38;5;241m.\u001b[39manova_lm(model, typ\u001b[38;5;241m=\u001b[39m\u001b[38;5;241m2\u001b[39m)\n\u001b[0;32m     18\u001b[0m \u001b[38;5;66;03m# Extracting p-value for interaction effect\u001b[39;00m\n",
      "\u001b[1;31mNameError\u001b[0m: name 'ols' is not defined"
     ]
    }
   ],
   "source": [
    "from scipy.stats import f_oneway\n",
    "import pandas as pd\n",
    "\n",
    "# Data\n",
    "data = {\n",
    "    'Advertising_Campaign': ['TV']*12 + ['Social Media']*12,\n",
    "    'Age_Group': ['Young Adults', 'Middle-Aged', 'Seniors']*8,\n",
    "    'Effectiveness_Score': [98, 88, 74, 67, 80, 98, 78, 82, 70, 70, 83, 95, 99, 83, 62, 81, 61, 83, 89, 97, 61, 80, 92, 71]\n",
    "}\n",
    "\n",
    "# Creating a DataFrame\n",
    "df = pd.DataFrame(data)\n",
    "\n",
    "# Performing Two-way ANOVA\n",
    "model = ols('Effectiveness_Score ~ C(Advertising_Campaign) + C(Age_Group) + C(Advertising_Campaign):C(Age_Group)', data=df).fit()\n",
    "anova_table = sm.stats.anova_lm(model, typ=2)\n",
    "\n",
    "# Extracting p-value for interaction effect\n",
    "interaction_pvalue = anova_table['PR(>F)']['C(Advertising_Campaign):C(Age_Group)']\n",
    "\n",
    "print(\"p-value for interaction effect:\", interaction_pvalue)\n"
   ]
  },
  {
   "cell_type": "code",
   "execution_count": 7,
   "id": "3393dcb4",
   "metadata": {},
   "outputs": [
    {
     "name": "stdout",
     "output_type": "stream",
     "text": [
      "p-value for interaction effect: 0.15334464432066014\n"
     ]
    }
   ],
   "source": [
    "import pandas as pd\n",
    "from statsmodels.formula.api import ols\n",
    "import statsmodels.api as sm\n",
    "\n",
    "# Data\n",
    "data = {\n",
    "    'Advertising_Campaign': ['TV']*12 + ['Social Media']*12,\n",
    "    'Age_Group': ['Young Adults', 'Middle-Aged', 'Seniors']*8,\n",
    "    'Effectiveness_Score': [98, 88, 74, 67, 80, 98, 78, 82, 70, 70, 83, 95, 99, 83, 62, 81, 61, 83, 89, 97, 61, 80, 92, 71]\n",
    "}\n",
    "\n",
    "# Creating a DataFrame\n",
    "df = pd.DataFrame(data)\n",
    "\n",
    "# Performing Two-way ANOVA\n",
    "model = ols('Effectiveness_Score ~ C(Advertising_Campaign) + C(Age_Group) + C(Advertising_Campaign):C(Age_Group)', data=df).fit()\n",
    "anova_table = sm.stats.anova_lm(model, typ=2)\n",
    "\n",
    "# Extracting p-value for interaction effect\n",
    "interaction_pvalue = anova_table['PR(>F)']['C(Advertising_Campaign):C(Age_Group)']\n",
    "\n",
    "print(\"p-value for interaction effect:\", interaction_pvalue)\n"
   ]
  },
  {
   "cell_type": "code",
   "execution_count": 10,
   "id": "df503234",
   "metadata": {},
   "outputs": [],
   "source": [
    "import numpy as np\n",
    "\n",
    "def specific_elements(mat1, mat2, r1, r2, c1, c2):\n",
    "    '''mat1,mat2 are the two 2d numpy array.\n",
    "       r1,r2 are the start and end of rows indices\n",
    "       c1,c2 are the start and end of columns indices\n",
    "       Output = Return a numpy array according to indices'''\n",
    "\n",
    "    # Step 1: Check whether matrix multiplication is possible\n",
    "    if mat1.shape[1] != mat2.shape[0]:\n",
    "        return -1\n",
    "\n",
    "    # Step 2: Perform matrix multiplication\n",
    "    matmul_array = np.dot(mat1, mat2)\n",
    "\n",
    "    # Step 3: Slice the array based on range value\n",
    "    result = matmul_array[r1:r2, c1:c2]\n",
    "\n",
    "    return result"
   ]
  },
  {
   "cell_type": "code",
   "execution_count": 16,
   "id": "7a4c79a3",
   "metadata": {},
   "outputs": [
    {
     "name": "stderr",
     "output_type": "stream",
     "text": [
      "<>:1: SyntaxWarning: list indices must be integers or slices, not tuple; perhaps you missed a comma?\n",
      "<>:2: SyntaxWarning: list indices must be integers or slices, not tuple; perhaps you missed a comma?\n",
      "<>:1: SyntaxWarning: list indices must be integers or slices, not tuple; perhaps you missed a comma?\n",
      "<>:2: SyntaxWarning: list indices must be integers or slices, not tuple; perhaps you missed a comma?\n",
      "C:\\Users\\SHAHNOOR ALAM\\AppData\\Local\\Temp\\ipykernel_12884\\2395708721.py:1: SyntaxWarning: list indices must be integers or slices, not tuple; perhaps you missed a comma?\n",
      "  mat1 = [[1, 2 ,3][4, 5 ,6][7, 8, 9]]\n",
      "C:\\Users\\SHAHNOOR ALAM\\AppData\\Local\\Temp\\ipykernel_12884\\2395708721.py:1: SyntaxWarning: list indices must be integers or slices, not tuple; perhaps you missed a comma?\n",
      "  mat1 = [[1, 2 ,3][4, 5 ,6][7, 8, 9]]\n",
      "C:\\Users\\SHAHNOOR ALAM\\AppData\\Local\\Temp\\ipykernel_12884\\2395708721.py:1: SyntaxWarning: list indices must be integers or slices, not tuple; perhaps you missed a comma?\n",
      "  mat1 = [[1, 2 ,3][4, 5 ,6][7, 8, 9]]\n",
      "C:\\Users\\SHAHNOOR ALAM\\AppData\\Local\\Temp\\ipykernel_12884\\2395708721.py:1: SyntaxWarning: list indices must be integers or slices, not tuple; perhaps you missed a comma?\n",
      "  mat1 = [[1, 2 ,3][4, 5 ,6][7, 8, 9]]\n"
     ]
    },
    {
     "ename": "TypeError",
     "evalue": "list indices must be integers or slices, not tuple",
     "output_type": "error",
     "traceback": [
      "\u001b[1;31m---------------------------------------------------------------------------\u001b[0m",
      "\u001b[1;31mTypeError\u001b[0m                                 Traceback (most recent call last)",
      "Cell \u001b[1;32mIn[16], line 1\u001b[0m\n\u001b[1;32m----> 1\u001b[0m mat1 \u001b[38;5;241m=\u001b[39m [\u001b[43m[\u001b[49m\u001b[38;5;241;43m1\u001b[39;49m\u001b[43m,\u001b[49m\u001b[43m \u001b[49m\u001b[38;5;241;43m2\u001b[39;49m\u001b[43m \u001b[49m\u001b[43m,\u001b[49m\u001b[38;5;241;43m3\u001b[39;49m\u001b[43m]\u001b[49m\u001b[43m[\u001b[49m\u001b[38;5;241;43m4\u001b[39;49m\u001b[43m,\u001b[49m\u001b[43m \u001b[49m\u001b[38;5;241;43m5\u001b[39;49m\u001b[43m \u001b[49m\u001b[43m,\u001b[49m\u001b[38;5;241;43m6\u001b[39;49m\u001b[43m]\u001b[49m[\u001b[38;5;241m7\u001b[39m, \u001b[38;5;241m8\u001b[39m, \u001b[38;5;241m9\u001b[39m]]\n\u001b[0;32m      2\u001b[0m mat2 \u001b[38;5;241m=\u001b[39m [[\u001b[38;5;241m4\u001b[39m ,\u001b[38;5;241m3\u001b[39m ,\u001b[38;5;241m4\u001b[39m][\u001b[38;5;241m4\u001b[39m ,\u001b[38;5;241m5\u001b[39m ,\u001b[38;5;241m1\u001b[39m][\u001b[38;5;241m9\u001b[39m, \u001b[38;5;241m0\u001b[39m ,\u001b[38;5;241m7\u001b[39m]]\n\u001b[0;32m      3\u001b[0m r1 \u001b[38;5;241m=\u001b[39m \u001b[38;5;241m1\u001b[39m\n",
      "\u001b[1;31mTypeError\u001b[0m: list indices must be integers or slices, not tuple"
     ]
    }
   ],
   "source": [
    "mat1 = [[1, 2 ,3][4, 5 ,6][7, 8, 9]]\n",
    "mat2 = [[4 ,3 ,4][4 ,5 ,1][9, 0 ,7]]\n",
    "r1 = 1\n",
    "r2= 2\n",
    "c1 = 2\n",
    "c2 = 3 \n",
    "specific_element(mat1,mat2,r1,r2,c1,c2)"
   ]
  },
  {
   "cell_type": "code",
   "execution_count": 17,
   "id": "4a88af53",
   "metadata": {},
   "outputs": [
    {
     "name": "stdout",
     "output_type": "stream",
     "text": [
      "CI: ( 12.39 , 13.26 )\n"
     ]
    }
   ],
   "source": [
    "import numpy as np\n",
    "\n",
    "# Sample data\n",
    "sample_data = [12, 15, 13, 11, 14, 12, 10, 13, 11, 14, 16, 13, 12, 15, 13, 11, 14, 12, 10, 13, 11, 14, 16, 13, 12, 15, 13, 11, 14, 12, 10, 13, 11, 14, 16, 13, 12, 15, 13, 11]\n",
    "\n",
    "# Sample mean\n",
    "sample_mean = np.mean(sample_data)\n",
    "\n",
    "# Sample standard deviation\n",
    "sample_std = np.std(sample_data, ddof=1)\n",
    "\n",
    "# Sample size\n",
    "n = len(sample_data)\n",
    "\n",
    "# Critical value for 90% confidence interval\n",
    "z = 1.645\n",
    "\n",
    "# Margin of error\n",
    "margin_of_error = z * (sample_std / np.sqrt(n))\n",
    "\n",
    "# Confidence interval\n",
    "lower_bound = sample_mean - margin_of_error\n",
    "upper_bound = sample_mean + margin_of_error\n",
    "\n",
    "# Print confidence interval rounded to two decimal points\n",
    "print(\"CI:\", \"(\", round(lower_bound, 2), \",\", round(upper_bound, 2), \")\")\n"
   ]
  },
  {
   "cell_type": "code",
   "execution_count": 18,
   "id": "1cd5a829",
   "metadata": {},
   "outputs": [
    {
     "name": "stdout",
     "output_type": "stream",
     "text": [
      "Probability of having the disease given a positive test result: 8.93 %\n"
     ]
    }
   ],
   "source": [
    "# Define probabilities\n",
    "P_D = 0.001  # Probability of having the disease\n",
    "P_not_D = 1 - P_D  # Probability of not having the disease\n",
    "P_Pos_given_D = 0.98  # Probability of testing positive given that the person has the disease\n",
    "P_Pos_given_not_D = 0.01  # Probability of testing positive given that the person does not have the disease\n",
    "\n",
    "# Calculate the probability of testing positive\n",
    "P_Pos = P_Pos_given_D * P_D + P_Pos_given_not_D * P_not_D\n",
    "\n",
    "# Calculate the probability of having the disease given a positive test result\n",
    "P_D_given_Pos = (P_Pos_given_D * P_D) / P_Pos\n",
    "\n",
    "# Convert to percentage\n",
    "percentage = P_D_given_Pos * 100\n",
    "\n",
    "print(\"Probability of having the disease given a positive test result:\", round(percentage, 2), \"%\")\n"
   ]
  },
  {
   "cell_type": "code",
   "execution_count": 20,
   "id": "988c4bb7",
   "metadata": {},
   "outputs": [
    {
     "name": "stdout",
     "output_type": "stream",
     "text": [
      "Total number of committees: 92\n"
     ]
    }
   ],
   "source": [
    "from math import comb\n",
    "\n",
    "# Total number of ways to choose 3 people from 10 members\n",
    "total_combinations = comb(10, 3)\n",
    "\n",
    "# Number of ways to choose 3 people from the 8 non-sibling members\n",
    "non_sibling_combinations = comb(8, 3)\n",
    "\n",
    "# Number of ways to choose 2 non-sibling members from the 8 non-sibling members\n",
    "non_sibling_combinations_2 = comb(8, 2)\n",
    "\n",
    "# Total number of committees considering restrictions\n",
    "total_committees = total_combinations - (non_sibling_combinations - non_sibling_combinations_2)\n",
    "\n",
    "print(\"Total number of committees:\", total_committees)\n"
   ]
  },
  {
   "cell_type": "code",
   "execution_count": 23,
   "id": "4873cb63",
   "metadata": {},
   "outputs": [
    {
     "name": "stdout",
     "output_type": "stream",
     "text": [
      "Total number of valid committees: 40\n"
     ]
    }
   ],
   "source": [
    "from math import comb\n",
    "\n",
    "# Total number of club members\n",
    "total_members = 10\n",
    "\n",
    "# Committee size\n",
    "committee_size = 3\n",
    "\n",
    "# Calculate the total number of committees without considering the restriction\n",
    "total_combinations = comb(total_members, committee_size)\n",
    "\n",
    "# Calculate the number of committees where both siblings are on the committee\n",
    "both_siblings_combinations = comb(total_members - 2, committee_size - 2)\n",
    "\n",
    "# Calculate the number of committees where only Alex is on the committee\n",
    "only_alex_combinations = comb(total_members - 1, committee_size - 1)\n",
    "\n",
    "# Calculate the number of committees where only Ben is on the committee\n",
    "only_ben_combinations = comb(total_members - 1, committee_size - 1)\n",
    "\n",
    "# Calculate the total number of valid committees\n",
    "total_valid_committees = total_combinations - both_siblings_combinations - only_alex_combinations - only_ben_combinations\n",
    "\n",
    "print(\"Total number of valid committees:\", total_valid_committees)\n"
   ]
  },
  {
   "cell_type": "code",
   "execution_count": 25,
   "id": "459b92ad",
   "metadata": {},
   "outputs": [
    {
     "data": {
      "text/plain": [
       "<filter at 0x19a66e57b50>"
      ]
     },
     "execution_count": 25,
     "metadata": {},
     "output_type": "execute_result"
    }
   ],
   "source": [
    "result = filter(lambda x: x % 2 == 0, map(lambda y: y * 2, [1, 2, 3, 4]))\n",
    "result"
   ]
  },
  {
   "cell_type": "code",
   "execution_count": 26,
   "id": "7e66ce0f",
   "metadata": {},
   "outputs": [
    {
     "name": "stdout",
     "output_type": "stream",
     "text": [
      "101\n",
      "1\n"
     ]
    }
   ],
   "source": [
    "def longest_common_binary_prefix(arr):\n",
    "    if not arr:\n",
    "        return -1\n",
    "    \n",
    "    # Find the length of the shortest binary string in the array\n",
    "    min_length = min(len(s) for s in arr)\n",
    "    \n",
    "    # Initialize the prefix\n",
    "    prefix = \"\"\n",
    "    \n",
    "    # Iterate over each position in the binary strings\n",
    "    for i in range(min_length):\n",
    "        # Check if all strings have the same character at position i\n",
    "        if all(s[i] == arr[0][i] for s in arr):\n",
    "            # Append the character to the prefix\n",
    "            prefix += arr[0][i]\n",
    "        else:\n",
    "            # Stop if characters differ or if we encounter leading zeros\n",
    "            break\n",
    "    \n",
    "    # Check if the prefix is empty (no common prefix)\n",
    "    if not prefix:\n",
    "        return -1\n",
    "    \n",
    "    # Check if the prefix contains leading zeros\n",
    "    if prefix.startswith(\"0\"):\n",
    "        return -1\n",
    "    \n",
    "    return prefix\n",
    "\n",
    "# Test cases\n",
    "print(longest_common_binary_prefix([\"10101\", \"10100\", \"10111\", \"10110\", \"10101\"]))  # Output: 101\n",
    "print(longest_common_binary_prefix([\"11100\", \"11011\", \"10011\", \"10111\", \"11001\"]))  # Output: 1\n"
   ]
  },
  {
   "cell_type": "code",
   "execution_count": 28,
   "id": "d0111805",
   "metadata": {},
   "outputs": [
    {
     "name": "stdout",
     "output_type": "stream",
     "text": [
      "25\n",
      "21\n"
     ]
    }
   ],
   "source": [
    "def sum_of_integers(string):\n",
    "    # Initialize sum\n",
    "    total_sum = 0\n",
    "    \n",
    "    # Initialize current integer\n",
    "    current_int = 0\n",
    "    \n",
    "    # Iterate over each character in the string\n",
    "    for char in string:\n",
    "        if char.isdigit():\n",
    "            # If the character is a digit, update the current integer\n",
    "            current_int = current_int  + int(char)\n",
    "        else:\n",
    "            # If the character is not a digit, add the current integer to the total sum\n",
    "            total_sum += current_int\n",
    "            # Reset current integer for the next integer in the string\n",
    "            current_int = 0\n",
    "    \n",
    "    # Add the last integer in the string to the total sum\n",
    "    total_sum += current_int\n",
    "    \n",
    "    return total_sum\n",
    "\n",
    "# Test cases\n",
    "print(sum_of_integers(\"1%program897Language%\"))  # Output: 25\n",
    "print(sum_of_integers(\"123!python!@456*\"))      # Output: 21\n"
   ]
  },
  {
   "cell_type": "code",
   "execution_count": 29,
   "id": "4441f872",
   "metadata": {},
   "outputs": [
    {
     "name": "stdout",
     "output_type": "stream",
     "text": [
      "[3, 4, 5, 1, 2]\n",
      "[7, 6, 5, 4, 3, 2, 1, 9, 8]\n"
     ]
    }
   ],
   "source": [
    "def left_rotate_array(arr):\n",
    "    # Perform left rotation by two positions using array slicing\n",
    "    rotated_array = arr[2:] + arr[:2]\n",
    "    return rotated_array\n",
    "\n",
    "# Test cases\n",
    "print(left_rotate_array([1, 2, 3, 4, 5]))  # Output: [3, 4, 5, 1, 2]\n",
    "print(left_rotate_array([9, 8, 7, 6, 5, 4, 3, 2, 1]))  # Output: [7, 6, 5, 4, 3, 2, 1, 9, 8]\n"
   ]
  },
  {
   "cell_type": "code",
   "execution_count": 30,
   "id": "7995c66e",
   "metadata": {},
   "outputs": [
    {
     "name": "stdout",
     "output_type": "stream",
     "text": [
      "['hnptyo', 'llvee', 'ccrraea', 'ghlmrtaoi', 'dmmaa', 'hlleo']\n"
     ]
    }
   ],
   "source": [
    "def transform_strings(words):\n",
    "    ans = []\n",
    "    vowels = \"aeiou\"\n",
    "    \n",
    "    # Iterate over each word in the list\n",
    "    for word in words:\n",
    "        # Separate vowels and consonants\n",
    "        vowels_in_word = [char for char in word if char in vowels]\n",
    "        consonants_in_word = [char for char in word if char not in vowels]\n",
    "        \n",
    "        # Apply transformations\n",
    "        transformed_word = \"\".join(sorted(consonants_in_word)) + \"\".join(vowels_in_word)\n",
    "        \n",
    "        # Check if the transformed word is not a palindrome\n",
    "        if transformed_word != transformed_word[::-1]:\n",
    "            ans.append(transformed_word)\n",
    "    \n",
    "    return ans\n",
    "\n",
    "# Test case\n",
    "words = [\"python\", \"level\", \"racecar\", \"algorithm\", \"madam\", \"hello\"]\n",
    "print(transform_strings(words))  # Output: ['hnptyo', 'llvee', 'ccrraea', 'ghlmrtaoi', 'dmmaa', 'hlleo']\n"
   ]
  }
 ],
 "metadata": {
  "kernelspec": {
   "display_name": "Python 3 (ipykernel)",
   "language": "python",
   "name": "python3"
  },
  "language_info": {
   "codemirror_mode": {
    "name": "ipython",
    "version": 3
   },
   "file_extension": ".py",
   "mimetype": "text/x-python",
   "name": "python",
   "nbconvert_exporter": "python",
   "pygments_lexer": "ipython3",
   "version": "3.10.9"
  }
 },
 "nbformat": 4,
 "nbformat_minor": 5
}
